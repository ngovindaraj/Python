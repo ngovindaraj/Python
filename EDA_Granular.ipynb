{
 "cells": [
  {
   "cell_type": "markdown",
   "metadata": {},
   "source": [
    "### Granular - Technical Challenge"
   ]
  },
  {
   "cell_type": "code",
   "execution_count": 1,
   "metadata": {},
   "outputs": [
    {
     "name": "stdout",
     "output_type": "stream",
     "text": [
      "Populating the interactive namespace from numpy and matplotlib\n"
     ]
    }
   ],
   "source": [
    "import pandas as pd\n",
    "import matplotlib.pyplot as plt\n",
    "import seaborn as sns\n",
    "%pylab inline"
   ]
  },
  {
   "cell_type": "code",
   "execution_count": 2,
   "metadata": {
    "collapsed": true
   },
   "outputs": [],
   "source": [
    "toy_fields_df = pd.read_csv('toy_fields.csv')\n",
    "toy_orgs_df = pd.read_csv('toy_orgs.csv')\n",
    "toy_yields_df = pd.read_csv('toy_yields.csv')"
   ]
  },
  {
   "cell_type": "code",
   "execution_count": 3,
   "metadata": {
    "collapsed": true
   },
   "outputs": [],
   "source": [
    "# rename organization_id to org_id\n",
    "toy_orgs_df.columns = ['org/grower', 'org_id']"
   ]
  },
  {
   "cell_type": "code",
   "execution_count": 4,
   "metadata": {},
   "outputs": [],
   "source": [
    "# merge toy_fields and toy_yields with toy_orgs\n",
    "toy_yields_df = pd.merge(toy_yields_df, toy_orgs_df, how='inner', on='org_id')\n",
    "toy_fields_df = pd.merge(toy_fields_df, toy_orgs_df, how='inner', on='org_id')"
   ]
  },
  {
   "cell_type": "code",
   "execution_count": 5,
   "metadata": {},
   "outputs": [],
   "source": [
    "# drop org_id\n",
    "toy_yields_df = toy_yields_df.drop('org_id', axis=1)\n",
    "toy_fields_df = toy_fields_df.drop('org_id', axis=1)"
   ]
  },
  {
   "cell_type": "markdown",
   "metadata": {},
   "source": [
    "### Question 1: \n",
    "- a) We expect yield data to have one yield per org, year, field"
   ]
  },
  {
   "cell_type": "code",
   "execution_count": 6,
   "metadata": {},
   "outputs": [],
   "source": [
    "toy_yields_grouped = toy_yields_df.groupby(['org/grower','field_id', 'year']) "
   ]
  },
  {
   "cell_type": "code",
   "execution_count": 7,
   "metadata": {},
   "outputs": [
    {
     "data": {
      "text/html": [
       "<div>\n",
       "<style>\n",
       "    .dataframe thead tr:only-child th {\n",
       "        text-align: right;\n",
       "    }\n",
       "\n",
       "    .dataframe thead th {\n",
       "        text-align: left;\n",
       "    }\n",
       "\n",
       "    .dataframe tbody tr th {\n",
       "        vertical-align: top;\n",
       "    }\n",
       "</style>\n",
       "<table border=\"1\" class=\"dataframe\">\n",
       "  <thead>\n",
       "    <tr style=\"text-align: right;\">\n",
       "      <th></th>\n",
       "      <th>crop_type</th>\n",
       "      <th>year</th>\n",
       "      <th>harvest_product</th>\n",
       "      <th>total_harvested</th>\n",
       "      <th>harvested_unit</th>\n",
       "      <th>field_id</th>\n",
       "      <th>org/grower</th>\n",
       "    </tr>\n",
       "  </thead>\n",
       "  <tbody>\n",
       "    <tr>\n",
       "      <th>59</th>\n",
       "      <td>CROP.CORN.COMMERCIAL</td>\n",
       "      <td>2015</td>\n",
       "      <td>grain</td>\n",
       "      <td>43573.954100</td>\n",
       "      <td>bu</td>\n",
       "      <td>315645c27aa18fb735ae335b0e42692ac62e0558</td>\n",
       "      <td>Dudley Farm</td>\n",
       "    </tr>\n",
       "    <tr>\n",
       "      <th>61</th>\n",
       "      <td>CROP.CORN.COMMERCIAL</td>\n",
       "      <td>2015</td>\n",
       "      <td>grain</td>\n",
       "      <td>36016.714610</td>\n",
       "      <td>bu</td>\n",
       "      <td>c81eabfac15c03c8867033b500b510272b22d621</td>\n",
       "      <td>Dudley Farm</td>\n",
       "    </tr>\n",
       "    <tr>\n",
       "      <th>73</th>\n",
       "      <td>CROP.CORN.COMMERCIAL</td>\n",
       "      <td>2015</td>\n",
       "      <td>grain</td>\n",
       "      <td>24960.581550</td>\n",
       "      <td>bu</td>\n",
       "      <td>790456c61a24b82fdf2acd866fe9722919cb6358</td>\n",
       "      <td>Dudley Farm</td>\n",
       "    </tr>\n",
       "    <tr>\n",
       "      <th>78</th>\n",
       "      <td>CROP.CORN.COMMERCIAL</td>\n",
       "      <td>2015</td>\n",
       "      <td>grain</td>\n",
       "      <td>11316.289800</td>\n",
       "      <td>bu</td>\n",
       "      <td>c81eabfac15c03c8867033b500b510272b22d621</td>\n",
       "      <td>Dudley Farm</td>\n",
       "    </tr>\n",
       "    <tr>\n",
       "      <th>79</th>\n",
       "      <td>CROP.CORN.COMMERCIAL</td>\n",
       "      <td>2015</td>\n",
       "      <td>grain</td>\n",
       "      <td>52085.596640</td>\n",
       "      <td>bu</td>\n",
       "      <td>c81eabfac15c03c8867033b500b510272b22d621</td>\n",
       "      <td>Dudley Farm</td>\n",
       "    </tr>\n",
       "    <tr>\n",
       "      <th>93</th>\n",
       "      <td>CROP.CORN.COMMERCIAL</td>\n",
       "      <td>2015</td>\n",
       "      <td>grain</td>\n",
       "      <td>12504.097560</td>\n",
       "      <td>bu</td>\n",
       "      <td>315645c27aa18fb735ae335b0e42692ac62e0558</td>\n",
       "      <td>Dudley Farm</td>\n",
       "    </tr>\n",
       "    <tr>\n",
       "      <th>97</th>\n",
       "      <td>CROP.SOYBEAN.COMMERCIAL</td>\n",
       "      <td>2015</td>\n",
       "      <td>grain</td>\n",
       "      <td>17761.341890</td>\n",
       "      <td>bu</td>\n",
       "      <td>790456c61a24b82fdf2acd866fe9722919cb6358</td>\n",
       "      <td>Dudley Farm</td>\n",
       "    </tr>\n",
       "    <tr>\n",
       "      <th>145</th>\n",
       "      <td>CROP.CORN.COMMERCIAL</td>\n",
       "      <td>2017</td>\n",
       "      <td>grain</td>\n",
       "      <td>78558.630970</td>\n",
       "      <td>bu</td>\n",
       "      <td>b578e6be1ede28c8999d8d0da70ab8a80bdbcd53</td>\n",
       "      <td>Simmons Farm</td>\n",
       "    </tr>\n",
       "    <tr>\n",
       "      <th>220</th>\n",
       "      <td>CROP.CORN.COMMERCIAL</td>\n",
       "      <td>2017</td>\n",
       "      <td>grain</td>\n",
       "      <td>54412.251090</td>\n",
       "      <td>bu</td>\n",
       "      <td>b578e6be1ede28c8999d8d0da70ab8a80bdbcd53</td>\n",
       "      <td>Simmons Farm</td>\n",
       "    </tr>\n",
       "    <tr>\n",
       "      <th>253</th>\n",
       "      <td>CROP.CORN.COMMERCIAL</td>\n",
       "      <td>2015</td>\n",
       "      <td>grain</td>\n",
       "      <td>89396.309570</td>\n",
       "      <td>bu</td>\n",
       "      <td>17ba0791499db908433b80f37c5fbc89b870084b</td>\n",
       "      <td>Cavanaugh Farm</td>\n",
       "    </tr>\n",
       "    <tr>\n",
       "      <th>254</th>\n",
       "      <td>CROP.CORN.COMMERCIAL</td>\n",
       "      <td>2017</td>\n",
       "      <td>grain</td>\n",
       "      <td>62973.717440</td>\n",
       "      <td>bu</td>\n",
       "      <td>17ba0791499db908433b80f37c5fbc89b870084b</td>\n",
       "      <td>Cavanaugh Farm</td>\n",
       "    </tr>\n",
       "    <tr>\n",
       "      <th>261</th>\n",
       "      <td>CROP.CORN.COMMERCIAL</td>\n",
       "      <td>2015</td>\n",
       "      <td>grain</td>\n",
       "      <td>13651.318550</td>\n",
       "      <td>bu</td>\n",
       "      <td>17ba0791499db908433b80f37c5fbc89b870084b</td>\n",
       "      <td>Cavanaugh Farm</td>\n",
       "    </tr>\n",
       "    <tr>\n",
       "      <th>264</th>\n",
       "      <td>CROP.CORN.COMMERCIAL</td>\n",
       "      <td>2015</td>\n",
       "      <td>grain</td>\n",
       "      <td>18842.933420</td>\n",
       "      <td>bu</td>\n",
       "      <td>17ba0791499db908433b80f37c5fbc89b870084b</td>\n",
       "      <td>Cavanaugh Farm</td>\n",
       "    </tr>\n",
       "    <tr>\n",
       "      <th>265</th>\n",
       "      <td>CROP.CORN.COMMERCIAL</td>\n",
       "      <td>2017</td>\n",
       "      <td>grain</td>\n",
       "      <td>85499.573440</td>\n",
       "      <td>bu</td>\n",
       "      <td>17ba0791499db908433b80f37c5fbc89b870084b</td>\n",
       "      <td>Cavanaugh Farm</td>\n",
       "    </tr>\n",
       "    <tr>\n",
       "      <th>266</th>\n",
       "      <td>CROP.CORN.COMMERCIAL</td>\n",
       "      <td>2015</td>\n",
       "      <td>grain</td>\n",
       "      <td>36115.495260</td>\n",
       "      <td>bu</td>\n",
       "      <td>17ba0791499db908433b80f37c5fbc89b870084b</td>\n",
       "      <td>Cavanaugh Farm</td>\n",
       "    </tr>\n",
       "    <tr>\n",
       "      <th>268</th>\n",
       "      <td>CROP.CORN.COMMERCIAL</td>\n",
       "      <td>2017</td>\n",
       "      <td>grain</td>\n",
       "      <td>15515.127670</td>\n",
       "      <td>bu</td>\n",
       "      <td>17ba0791499db908433b80f37c5fbc89b870084b</td>\n",
       "      <td>Cavanaugh Farm</td>\n",
       "    </tr>\n",
       "    <tr>\n",
       "      <th>271</th>\n",
       "      <td>CROP.CORN.COMMERCIAL</td>\n",
       "      <td>2017</td>\n",
       "      <td>grain</td>\n",
       "      <td>105821.228400</td>\n",
       "      <td>bu</td>\n",
       "      <td>17ba0791499db908433b80f37c5fbc89b870084b</td>\n",
       "      <td>Cavanaugh Farm</td>\n",
       "    </tr>\n",
       "    <tr>\n",
       "      <th>272</th>\n",
       "      <td>CROP.CORN.COMMERCIAL</td>\n",
       "      <td>2015</td>\n",
       "      <td>grain</td>\n",
       "      <td>104495.966200</td>\n",
       "      <td>bu</td>\n",
       "      <td>17ba0791499db908433b80f37c5fbc89b870084b</td>\n",
       "      <td>Cavanaugh Farm</td>\n",
       "    </tr>\n",
       "    <tr>\n",
       "      <th>275</th>\n",
       "      <td>CROP.CORN.COMMERCIAL</td>\n",
       "      <td>2016</td>\n",
       "      <td>grain</td>\n",
       "      <td>78394.536720</td>\n",
       "      <td>bu</td>\n",
       "      <td>17ba0791499db908433b80f37c5fbc89b870084b</td>\n",
       "      <td>Cavanaugh Farm</td>\n",
       "    </tr>\n",
       "    <tr>\n",
       "      <th>279</th>\n",
       "      <td>CROP.CORN.COMMERCIAL</td>\n",
       "      <td>2016</td>\n",
       "      <td>grain</td>\n",
       "      <td>13354.207570</td>\n",
       "      <td>bu</td>\n",
       "      <td>17ba0791499db908433b80f37c5fbc89b870084b</td>\n",
       "      <td>Cavanaugh Farm</td>\n",
       "    </tr>\n",
       "    <tr>\n",
       "      <th>283</th>\n",
       "      <td>CROP.CORN.COMMERCIAL</td>\n",
       "      <td>2015</td>\n",
       "      <td>grain</td>\n",
       "      <td>29582.644440</td>\n",
       "      <td>bu</td>\n",
       "      <td>17ba0791499db908433b80f37c5fbc89b870084b</td>\n",
       "      <td>Cavanaugh Farm</td>\n",
       "    </tr>\n",
       "    <tr>\n",
       "      <th>288</th>\n",
       "      <td>CROP.SOYBEAN.COMMERCIAL</td>\n",
       "      <td>2015</td>\n",
       "      <td>grain</td>\n",
       "      <td>22190.668290</td>\n",
       "      <td>bu</td>\n",
       "      <td>17ba0791499db908433b80f37c5fbc89b870084b</td>\n",
       "      <td>Cavanaugh Farm</td>\n",
       "    </tr>\n",
       "    <tr>\n",
       "      <th>291</th>\n",
       "      <td>CROP.CORN.COMMERCIAL</td>\n",
       "      <td>2017</td>\n",
       "      <td>grain</td>\n",
       "      <td>74091.613500</td>\n",
       "      <td>bu</td>\n",
       "      <td>16a2f8c764357b350bf23545abf0aac2c5be2c97</td>\n",
       "      <td>Cavanaugh Farm</td>\n",
       "    </tr>\n",
       "    <tr>\n",
       "      <th>292</th>\n",
       "      <td>CROP.CORN.COMMERCIAL</td>\n",
       "      <td>2015</td>\n",
       "      <td>grain</td>\n",
       "      <td>16181.330480</td>\n",
       "      <td>bu</td>\n",
       "      <td>17ba0791499db908433b80f37c5fbc89b870084b</td>\n",
       "      <td>Cavanaugh Farm</td>\n",
       "    </tr>\n",
       "    <tr>\n",
       "      <th>294</th>\n",
       "      <td>CROP.CORN.COMMERCIAL</td>\n",
       "      <td>2017</td>\n",
       "      <td>grain</td>\n",
       "      <td>75136.800950</td>\n",
       "      <td>bu</td>\n",
       "      <td>16a2f8c764357b350bf23545abf0aac2c5be2c97</td>\n",
       "      <td>Cavanaugh Farm</td>\n",
       "    </tr>\n",
       "    <tr>\n",
       "      <th>298</th>\n",
       "      <td>CROP.CORN.COMMERCIAL</td>\n",
       "      <td>2016</td>\n",
       "      <td>grain</td>\n",
       "      <td>132044.685700</td>\n",
       "      <td>bu</td>\n",
       "      <td>17ba0791499db908433b80f37c5fbc89b870084b</td>\n",
       "      <td>Cavanaugh Farm</td>\n",
       "    </tr>\n",
       "    <tr>\n",
       "      <th>300</th>\n",
       "      <td>CROP.CORN.COMMERCIAL</td>\n",
       "      <td>2015</td>\n",
       "      <td>grain</td>\n",
       "      <td>34694.219440</td>\n",
       "      <td>bu</td>\n",
       "      <td>d64f46e52ae55b85c21ab96be025236df9687773</td>\n",
       "      <td>Cavanaugh Farm</td>\n",
       "    </tr>\n",
       "    <tr>\n",
       "      <th>305</th>\n",
       "      <td>CROP.CORN.COMMERCIAL</td>\n",
       "      <td>2016</td>\n",
       "      <td>grain</td>\n",
       "      <td>73595.712800</td>\n",
       "      <td>bu</td>\n",
       "      <td>17ba0791499db908433b80f37c5fbc89b870084b</td>\n",
       "      <td>Cavanaugh Farm</td>\n",
       "    </tr>\n",
       "    <tr>\n",
       "      <th>313</th>\n",
       "      <td>CROP.CORN.COMMERCIAL</td>\n",
       "      <td>2016</td>\n",
       "      <td>grain</td>\n",
       "      <td>28062.447680</td>\n",
       "      <td>bu</td>\n",
       "      <td>17ba0791499db908433b80f37c5fbc89b870084b</td>\n",
       "      <td>Cavanaugh Farm</td>\n",
       "    </tr>\n",
       "    <tr>\n",
       "      <th>314</th>\n",
       "      <td>CROP.CORN.COMMERCIAL</td>\n",
       "      <td>2015</td>\n",
       "      <td>grain</td>\n",
       "      <td>62628.977080</td>\n",
       "      <td>bu</td>\n",
       "      <td>d64f46e52ae55b85c21ab96be025236df9687773</td>\n",
       "      <td>Cavanaugh Farm</td>\n",
       "    </tr>\n",
       "    <tr>\n",
       "      <th>318</th>\n",
       "      <td>CROP.CORN.COMMERCIAL</td>\n",
       "      <td>2015</td>\n",
       "      <td>grain</td>\n",
       "      <td>42498.864410</td>\n",
       "      <td>bu</td>\n",
       "      <td>17ba0791499db908433b80f37c5fbc89b870084b</td>\n",
       "      <td>Cavanaugh Farm</td>\n",
       "    </tr>\n",
       "    <tr>\n",
       "      <th>321</th>\n",
       "      <td>CROP.CORN.COMMERCIAL</td>\n",
       "      <td>2017</td>\n",
       "      <td>grain</td>\n",
       "      <td>56455.084640</td>\n",
       "      <td>bu</td>\n",
       "      <td>17ba0791499db908433b80f37c5fbc89b870084b</td>\n",
       "      <td>Cavanaugh Farm</td>\n",
       "    </tr>\n",
       "    <tr>\n",
       "      <th>324</th>\n",
       "      <td>CROP.SOYBEAN.COMMERCIAL</td>\n",
       "      <td>2015</td>\n",
       "      <td>grain</td>\n",
       "      <td>17704.317250</td>\n",
       "      <td>bu</td>\n",
       "      <td>17ba0791499db908433b80f37c5fbc89b870084b</td>\n",
       "      <td>Cavanaugh Farm</td>\n",
       "    </tr>\n",
       "    <tr>\n",
       "      <th>327</th>\n",
       "      <td>CROP.CORN.COMMERCIAL</td>\n",
       "      <td>2015</td>\n",
       "      <td>grain</td>\n",
       "      <td>160421.475400</td>\n",
       "      <td>bu</td>\n",
       "      <td>17ba0791499db908433b80f37c5fbc89b870084b</td>\n",
       "      <td>Cavanaugh Farm</td>\n",
       "    </tr>\n",
       "    <tr>\n",
       "      <th>333</th>\n",
       "      <td>CROP.CORN.COMMERCIAL</td>\n",
       "      <td>2015</td>\n",
       "      <td>grain</td>\n",
       "      <td>65070.435110</td>\n",
       "      <td>bu</td>\n",
       "      <td>295f94fd307065b54d72fd025e8b476510592c9b</td>\n",
       "      <td>Depner Farm</td>\n",
       "    </tr>\n",
       "    <tr>\n",
       "      <th>338</th>\n",
       "      <td>CROP.SOYBEAN.COMMERCIAL</td>\n",
       "      <td>2014</td>\n",
       "      <td>grain</td>\n",
       "      <td>9155.537097</td>\n",
       "      <td>bu</td>\n",
       "      <td>7918c722bf8c5bf47d3f06ab61ee7f16c90a2887</td>\n",
       "      <td>Depner Farm</td>\n",
       "    </tr>\n",
       "    <tr>\n",
       "      <th>342</th>\n",
       "      <td>CROP.CORN.COMMERCIAL</td>\n",
       "      <td>2015</td>\n",
       "      <td>grain</td>\n",
       "      <td>52615.153270</td>\n",
       "      <td>bu</td>\n",
       "      <td>295f94fd307065b54d72fd025e8b476510592c9b</td>\n",
       "      <td>Depner Farm</td>\n",
       "    </tr>\n",
       "    <tr>\n",
       "      <th>346</th>\n",
       "      <td>CROP.CORN.COMMERCIAL</td>\n",
       "      <td>2016</td>\n",
       "      <td>grain</td>\n",
       "      <td>50857.544430</td>\n",
       "      <td>bu</td>\n",
       "      <td>6c72c2cb8ac35f84e4cab5d22a9eb3c2e5783e69</td>\n",
       "      <td>Depner Farm</td>\n",
       "    </tr>\n",
       "    <tr>\n",
       "      <th>349</th>\n",
       "      <td>CROP.CORN.COMMERCIAL</td>\n",
       "      <td>2014</td>\n",
       "      <td>grain</td>\n",
       "      <td>67743.991590</td>\n",
       "      <td>bu</td>\n",
       "      <td>7918c722bf8c5bf47d3f06ab61ee7f16c90a2887</td>\n",
       "      <td>Depner Farm</td>\n",
       "    </tr>\n",
       "    <tr>\n",
       "      <th>350</th>\n",
       "      <td>CROP.CORN.COMMERCIAL</td>\n",
       "      <td>2016</td>\n",
       "      <td>grain</td>\n",
       "      <td>59249.685070</td>\n",
       "      <td>bu</td>\n",
       "      <td>6c72c2cb8ac35f84e4cab5d22a9eb3c2e5783e69</td>\n",
       "      <td>Depner Farm</td>\n",
       "    </tr>\n",
       "    <tr>\n",
       "      <th>354</th>\n",
       "      <td>CROP.CORN.COMMERCIAL</td>\n",
       "      <td>2015</td>\n",
       "      <td>grain</td>\n",
       "      <td>140762.056400</td>\n",
       "      <td>bu</td>\n",
       "      <td>6c72c2cb8ac35f84e4cab5d22a9eb3c2e5783e69</td>\n",
       "      <td>Depner Farm</td>\n",
       "    </tr>\n",
       "    <tr>\n",
       "      <th>357</th>\n",
       "      <td>CROP.CORN.COMMERCIAL</td>\n",
       "      <td>2015</td>\n",
       "      <td>grain</td>\n",
       "      <td>61618.195060</td>\n",
       "      <td>bu</td>\n",
       "      <td>6c72c2cb8ac35f84e4cab5d22a9eb3c2e5783e69</td>\n",
       "      <td>Depner Farm</td>\n",
       "    </tr>\n",
       "    <tr>\n",
       "      <th>364</th>\n",
       "      <td>CROP.CORN.COMMERCIAL</td>\n",
       "      <td>2015</td>\n",
       "      <td>grain</td>\n",
       "      <td>72642.027750</td>\n",
       "      <td>bu</td>\n",
       "      <td>6c72c2cb8ac35f84e4cab5d22a9eb3c2e5783e69</td>\n",
       "      <td>Depner Farm</td>\n",
       "    </tr>\n",
       "    <tr>\n",
       "      <th>382</th>\n",
       "      <td>CROP.CORN.COMMERCIAL</td>\n",
       "      <td>2017</td>\n",
       "      <td>grain</td>\n",
       "      <td>134799.103100</td>\n",
       "      <td>bu</td>\n",
       "      <td>d8af4f1c279187449da52e16a27539c9ce1344d2</td>\n",
       "      <td>Konecny Farm</td>\n",
       "    </tr>\n",
       "    <tr>\n",
       "      <th>383</th>\n",
       "      <td>CROP.CORN.COMMERCIAL</td>\n",
       "      <td>2017</td>\n",
       "      <td>grain</td>\n",
       "      <td>35400.559000</td>\n",
       "      <td>bu</td>\n",
       "      <td>d8af4f1c279187449da52e16a27539c9ce1344d2</td>\n",
       "      <td>Konecny Farm</td>\n",
       "    </tr>\n",
       "    <tr>\n",
       "      <th>385</th>\n",
       "      <td>CROP.CORN.COMMERCIAL</td>\n",
       "      <td>2017</td>\n",
       "      <td>grain</td>\n",
       "      <td>11178.895150</td>\n",
       "      <td>bu</td>\n",
       "      <td>d8af4f1c279187449da52e16a27539c9ce1344d2</td>\n",
       "      <td>Konecny Farm</td>\n",
       "    </tr>\n",
       "    <tr>\n",
       "      <th>406</th>\n",
       "      <td>CROP.CORN.COMMERCIAL</td>\n",
       "      <td>2017</td>\n",
       "      <td>grain</td>\n",
       "      <td>32062.585080</td>\n",
       "      <td>bu</td>\n",
       "      <td>b712ac1d4550a50dba54876abbfa22112c7e67fa</td>\n",
       "      <td>Sifuentes Farm</td>\n",
       "    </tr>\n",
       "    <tr>\n",
       "      <th>407</th>\n",
       "      <td>CROP.SOYBEAN.COMMERCIAL</td>\n",
       "      <td>2017</td>\n",
       "      <td>grain</td>\n",
       "      <td>12482.615910</td>\n",
       "      <td>bu</td>\n",
       "      <td>b712ac1d4550a50dba54876abbfa22112c7e67fa</td>\n",
       "      <td>Sifuentes Farm</td>\n",
       "    </tr>\n",
       "  </tbody>\n",
       "</table>\n",
       "</div>"
      ],
      "text/plain": [
       "                   crop_type  year harvest_product  total_harvested  \\\n",
       "59      CROP.CORN.COMMERCIAL  2015           grain     43573.954100   \n",
       "61      CROP.CORN.COMMERCIAL  2015           grain     36016.714610   \n",
       "73      CROP.CORN.COMMERCIAL  2015           grain     24960.581550   \n",
       "78      CROP.CORN.COMMERCIAL  2015           grain     11316.289800   \n",
       "79      CROP.CORN.COMMERCIAL  2015           grain     52085.596640   \n",
       "93      CROP.CORN.COMMERCIAL  2015           grain     12504.097560   \n",
       "97   CROP.SOYBEAN.COMMERCIAL  2015           grain     17761.341890   \n",
       "145     CROP.CORN.COMMERCIAL  2017           grain     78558.630970   \n",
       "220     CROP.CORN.COMMERCIAL  2017           grain     54412.251090   \n",
       "253     CROP.CORN.COMMERCIAL  2015           grain     89396.309570   \n",
       "254     CROP.CORN.COMMERCIAL  2017           grain     62973.717440   \n",
       "261     CROP.CORN.COMMERCIAL  2015           grain     13651.318550   \n",
       "264     CROP.CORN.COMMERCIAL  2015           grain     18842.933420   \n",
       "265     CROP.CORN.COMMERCIAL  2017           grain     85499.573440   \n",
       "266     CROP.CORN.COMMERCIAL  2015           grain     36115.495260   \n",
       "268     CROP.CORN.COMMERCIAL  2017           grain     15515.127670   \n",
       "271     CROP.CORN.COMMERCIAL  2017           grain    105821.228400   \n",
       "272     CROP.CORN.COMMERCIAL  2015           grain    104495.966200   \n",
       "275     CROP.CORN.COMMERCIAL  2016           grain     78394.536720   \n",
       "279     CROP.CORN.COMMERCIAL  2016           grain     13354.207570   \n",
       "283     CROP.CORN.COMMERCIAL  2015           grain     29582.644440   \n",
       "288  CROP.SOYBEAN.COMMERCIAL  2015           grain     22190.668290   \n",
       "291     CROP.CORN.COMMERCIAL  2017           grain     74091.613500   \n",
       "292     CROP.CORN.COMMERCIAL  2015           grain     16181.330480   \n",
       "294     CROP.CORN.COMMERCIAL  2017           grain     75136.800950   \n",
       "298     CROP.CORN.COMMERCIAL  2016           grain    132044.685700   \n",
       "300     CROP.CORN.COMMERCIAL  2015           grain     34694.219440   \n",
       "305     CROP.CORN.COMMERCIAL  2016           grain     73595.712800   \n",
       "313     CROP.CORN.COMMERCIAL  2016           grain     28062.447680   \n",
       "314     CROP.CORN.COMMERCIAL  2015           grain     62628.977080   \n",
       "318     CROP.CORN.COMMERCIAL  2015           grain     42498.864410   \n",
       "321     CROP.CORN.COMMERCIAL  2017           grain     56455.084640   \n",
       "324  CROP.SOYBEAN.COMMERCIAL  2015           grain     17704.317250   \n",
       "327     CROP.CORN.COMMERCIAL  2015           grain    160421.475400   \n",
       "333     CROP.CORN.COMMERCIAL  2015           grain     65070.435110   \n",
       "338  CROP.SOYBEAN.COMMERCIAL  2014           grain      9155.537097   \n",
       "342     CROP.CORN.COMMERCIAL  2015           grain     52615.153270   \n",
       "346     CROP.CORN.COMMERCIAL  2016           grain     50857.544430   \n",
       "349     CROP.CORN.COMMERCIAL  2014           grain     67743.991590   \n",
       "350     CROP.CORN.COMMERCIAL  2016           grain     59249.685070   \n",
       "354     CROP.CORN.COMMERCIAL  2015           grain    140762.056400   \n",
       "357     CROP.CORN.COMMERCIAL  2015           grain     61618.195060   \n",
       "364     CROP.CORN.COMMERCIAL  2015           grain     72642.027750   \n",
       "382     CROP.CORN.COMMERCIAL  2017           grain    134799.103100   \n",
       "383     CROP.CORN.COMMERCIAL  2017           grain     35400.559000   \n",
       "385     CROP.CORN.COMMERCIAL  2017           grain     11178.895150   \n",
       "406     CROP.CORN.COMMERCIAL  2017           grain     32062.585080   \n",
       "407  CROP.SOYBEAN.COMMERCIAL  2017           grain     12482.615910   \n",
       "\n",
       "    harvested_unit                                  field_id      org/grower  \n",
       "59              bu  315645c27aa18fb735ae335b0e42692ac62e0558     Dudley Farm  \n",
       "61              bu  c81eabfac15c03c8867033b500b510272b22d621     Dudley Farm  \n",
       "73              bu  790456c61a24b82fdf2acd866fe9722919cb6358     Dudley Farm  \n",
       "78              bu  c81eabfac15c03c8867033b500b510272b22d621     Dudley Farm  \n",
       "79              bu  c81eabfac15c03c8867033b500b510272b22d621     Dudley Farm  \n",
       "93              bu  315645c27aa18fb735ae335b0e42692ac62e0558     Dudley Farm  \n",
       "97              bu  790456c61a24b82fdf2acd866fe9722919cb6358     Dudley Farm  \n",
       "145             bu  b578e6be1ede28c8999d8d0da70ab8a80bdbcd53    Simmons Farm  \n",
       "220             bu  b578e6be1ede28c8999d8d0da70ab8a80bdbcd53    Simmons Farm  \n",
       "253             bu  17ba0791499db908433b80f37c5fbc89b870084b  Cavanaugh Farm  \n",
       "254             bu  17ba0791499db908433b80f37c5fbc89b870084b  Cavanaugh Farm  \n",
       "261             bu  17ba0791499db908433b80f37c5fbc89b870084b  Cavanaugh Farm  \n",
       "264             bu  17ba0791499db908433b80f37c5fbc89b870084b  Cavanaugh Farm  \n",
       "265             bu  17ba0791499db908433b80f37c5fbc89b870084b  Cavanaugh Farm  \n",
       "266             bu  17ba0791499db908433b80f37c5fbc89b870084b  Cavanaugh Farm  \n",
       "268             bu  17ba0791499db908433b80f37c5fbc89b870084b  Cavanaugh Farm  \n",
       "271             bu  17ba0791499db908433b80f37c5fbc89b870084b  Cavanaugh Farm  \n",
       "272             bu  17ba0791499db908433b80f37c5fbc89b870084b  Cavanaugh Farm  \n",
       "275             bu  17ba0791499db908433b80f37c5fbc89b870084b  Cavanaugh Farm  \n",
       "279             bu  17ba0791499db908433b80f37c5fbc89b870084b  Cavanaugh Farm  \n",
       "283             bu  17ba0791499db908433b80f37c5fbc89b870084b  Cavanaugh Farm  \n",
       "288             bu  17ba0791499db908433b80f37c5fbc89b870084b  Cavanaugh Farm  \n",
       "291             bu  16a2f8c764357b350bf23545abf0aac2c5be2c97  Cavanaugh Farm  \n",
       "292             bu  17ba0791499db908433b80f37c5fbc89b870084b  Cavanaugh Farm  \n",
       "294             bu  16a2f8c764357b350bf23545abf0aac2c5be2c97  Cavanaugh Farm  \n",
       "298             bu  17ba0791499db908433b80f37c5fbc89b870084b  Cavanaugh Farm  \n",
       "300             bu  d64f46e52ae55b85c21ab96be025236df9687773  Cavanaugh Farm  \n",
       "305             bu  17ba0791499db908433b80f37c5fbc89b870084b  Cavanaugh Farm  \n",
       "313             bu  17ba0791499db908433b80f37c5fbc89b870084b  Cavanaugh Farm  \n",
       "314             bu  d64f46e52ae55b85c21ab96be025236df9687773  Cavanaugh Farm  \n",
       "318             bu  17ba0791499db908433b80f37c5fbc89b870084b  Cavanaugh Farm  \n",
       "321             bu  17ba0791499db908433b80f37c5fbc89b870084b  Cavanaugh Farm  \n",
       "324             bu  17ba0791499db908433b80f37c5fbc89b870084b  Cavanaugh Farm  \n",
       "327             bu  17ba0791499db908433b80f37c5fbc89b870084b  Cavanaugh Farm  \n",
       "333             bu  295f94fd307065b54d72fd025e8b476510592c9b     Depner Farm  \n",
       "338             bu  7918c722bf8c5bf47d3f06ab61ee7f16c90a2887     Depner Farm  \n",
       "342             bu  295f94fd307065b54d72fd025e8b476510592c9b     Depner Farm  \n",
       "346             bu  6c72c2cb8ac35f84e4cab5d22a9eb3c2e5783e69     Depner Farm  \n",
       "349             bu  7918c722bf8c5bf47d3f06ab61ee7f16c90a2887     Depner Farm  \n",
       "350             bu  6c72c2cb8ac35f84e4cab5d22a9eb3c2e5783e69     Depner Farm  \n",
       "354             bu  6c72c2cb8ac35f84e4cab5d22a9eb3c2e5783e69     Depner Farm  \n",
       "357             bu  6c72c2cb8ac35f84e4cab5d22a9eb3c2e5783e69     Depner Farm  \n",
       "364             bu  6c72c2cb8ac35f84e4cab5d22a9eb3c2e5783e69     Depner Farm  \n",
       "382             bu  d8af4f1c279187449da52e16a27539c9ce1344d2    Konecny Farm  \n",
       "383             bu  d8af4f1c279187449da52e16a27539c9ce1344d2    Konecny Farm  \n",
       "385             bu  d8af4f1c279187449da52e16a27539c9ce1344d2    Konecny Farm  \n",
       "406             bu  b712ac1d4550a50dba54876abbfa22112c7e67fa  Sifuentes Farm  \n",
       "407             bu  b712ac1d4550a50dba54876abbfa22112c7e67fa  Sifuentes Farm  "
      ]
     },
     "execution_count": 7,
     "metadata": {},
     "output_type": "execute_result"
    }
   ],
   "source": [
    "toy_yields_grouped.filter(lambda x: x['crop_type'].count() > 1)"
   ]
  },
  {
   "cell_type": "code",
   "execution_count": 8,
   "metadata": {},
   "outputs": [
    {
     "data": {
      "text/plain": [
       "48"
      ]
     },
     "execution_count": 8,
     "metadata": {},
     "output_type": "execute_result"
    }
   ],
   "source": [
    "len(toy_yields_grouped.filter(lambda x: x['crop_type'].count() > 1))"
   ]
  },
  {
   "cell_type": "markdown",
   "metadata": {},
   "source": [
    "### Question 1 contd. \n",
    "- b) We expect there to be one measure of area (acreage) per field"
   ]
  },
  {
   "cell_type": "code",
   "execution_count": 9,
   "metadata": {},
   "outputs": [
    {
     "data": {
      "text/plain": [
       "Index(['field_id', 'year', 'field_area', 'field_area_unit', 'org/grower'], dtype='object')"
      ]
     },
     "execution_count": 9,
     "metadata": {},
     "output_type": "execute_result"
    }
   ],
   "source": [
    "toy_fields_df.columns"
   ]
  },
  {
   "cell_type": "code",
   "execution_count": 10,
   "metadata": {},
   "outputs": [
    {
     "name": "stdout",
     "output_type": "stream",
     "text": [
      "Number of Duplicate entries = 0, Missing entries = 0\n"
     ]
    }
   ],
   "source": [
    "dup_cnt, null_cnt = toy_fields_df.duplicated().sum(), toy_fields_df.isnull().sum().sum()\n",
    "print(\"Number of Duplicate entries = %d, Missing entries = %d\" % (dup_cnt, null_cnt))"
   ]
  },
  {
   "cell_type": "code",
   "execution_count": 11,
   "metadata": {},
   "outputs": [],
   "source": [
    "# making sure that no two orgs have the same field id\n",
    "\n",
    "toy_fields_grouped = toy_fields_df.groupby(['org/grower', 'field_id'])"
   ]
  },
  {
   "cell_type": "code",
   "execution_count": 12,
   "metadata": {},
   "outputs": [
    {
     "data": {
      "text/plain": [
       "org/grower    field_id                                \n",
       "Austin Farm   0c090e104b85e5d305640f9d43f32d0a8c5faeb6    1\n",
       "              0dd926eb22935abce9d072635fa3301d11ca51ad    1\n",
       "              0ed36c4cebc9422c09599331d19995cf6410b513    1\n",
       "              1a49329d95f4212cad1465abd97fe2b02b2d4e59    1\n",
       "              3043cfa778d98f7970918f0f2958c4b6e9701c7d    1\n",
       "              373b845a8eb362f8dd343300874f1cb424d3d62c    1\n",
       "              3a7239737a3e4fd938314ee0546579a2071e0283    1\n",
       "              3e9763bc48ac362d45ed6ea6a8035b7e515424ac    1\n",
       "              3ecb07dfe2886a452d827ba5be310bef04548353    1\n",
       "              4da7eb451613f4e33463ea474b2d24f51d0540ff    1\n",
       "              5326c640348588b6c69ff9662ad0dfa6c2b1597f    1\n",
       "              5f826cc116841bfdbca273cebb21f470e602c75f    1\n",
       "              5ffe5f7993c967a9ec145605bb6bd6597f03b5e2    1\n",
       "              62e2c677118c2b78f17c6ff57f42928173947564    1\n",
       "              62ea71539dad5f47c46ab72672bcddecbe47b4e6    1\n",
       "              641aa6a8dbbd287d0217dcfba9face3f122c4c5b    1\n",
       "              6444e5cd8df1b4a6d3eeb968a30822e3e486bfaa    1\n",
       "              66dec081f750e2d33394a88a4436242bfbdcf6da    1\n",
       "              769f173c007cadfd961696f2c3cff175da480678    1\n",
       "              76b37aed09ffb990d57ab0386dda883110fcd00a    1\n",
       "              82de9e36652993a37ce5fbc55fa9033f425fb120    1\n",
       "              82fe9486ee2491f15a25da2f13ee42b54b5660f7    1\n",
       "              8829979bca163c948d407fe1b11d91c89a2c77bd    1\n",
       "              8dd2c1528419d4fcf5c05853c23dbeecc8d5768e    1\n",
       "              933595d2cbf1d9582cabbae117decc207f5e48b8    1\n",
       "              9d2e94f13dd91bd8c932da1be055cd4158e8f16b    1\n",
       "              a45572f89b287b6bb219ddfc3320f0d842c0668e    1\n",
       "              a620ca92bb4f0a8daaabfa8f198008da3313f9b7    1\n",
       "              a7a594dba3e25f7f4777042254dfd966214ca5cb    1\n",
       "              a82b63774a05b3cee8f7afb82350f24e92176bd1    1\n",
       "                                                         ..\n",
       "Simmons Farm  9713fdcb2ec5f9923f9aa99557a4deb89a994cde    3\n",
       "              99236016a1c4b53b1e32fc6182fbf3e0fdf84f4b    2\n",
       "              9932ff9d5b3bd3b9cebc5136125ca0eeeab4fad5    1\n",
       "              9dbaffe968f8b893078eefd7751f53bb2f71d6be    2\n",
       "              9e9c8e4268a5c8a1e7b33c2c768def1eed7d112a    2\n",
       "              a11ab706c2f1348764a6a67fd9928c5875c6e543    3\n",
       "              a17cec4433a71722240d5ab3d3287d96b3d23110    3\n",
       "              acae71f7ed099a11cb511918d1be78df470139c5    3\n",
       "              b1e493ac8a1760597dd7bd7c1e12541b43e7e51a    3\n",
       "              b25ddb082807ff10842b24af3397decd61eb446b    3\n",
       "              b578e6be1ede28c8999d8d0da70ab8a80bdbcd53    4\n",
       "              b78223432b759dedd332a6662cc614ef3e15b896    3\n",
       "              c064f9a97c867c8596c916ad718d96c5ffa9e44c    2\n",
       "              cb0575a03b83d7234b74a8dbb1022b42ff17dcc6    3\n",
       "              ce8405c765887b5dfb9f167609ba8610c9a9cd2b    3\n",
       "              d680800b4acc327425bf24f52e992aaffa610600    2\n",
       "              d86416f15046fe3e24bc4efecc70abfdee760f57    2\n",
       "              daeab438051b9d0a654659b7f038f08b44c184af    3\n",
       "              e092fbdd0996a08f5a9dc28a0b1ed1f37b18224f    2\n",
       "              e5e9351797b81a62804e8797386dcb8b5f4be891    3\n",
       "              ed3d9c187d573c0f69e896db96430dcbb17721c6    2\n",
       "              ed5925414c882633205cadfd0becc5481570a541    2\n",
       "              ed6c2846f20f0ea61ef43a699483ca56fb22655d    2\n",
       "              ed7e44f184a071a25c905e1ee9f73c6741e0bd01    3\n",
       "              f0cf77d67eafd85e0f9bdbbf7887c927dd09f75d    2\n",
       "              f6d743e9583b9fda6ca92a7ec90d57a9caf08376    1\n",
       "              fcd0248878ee8a137d57a8dc8f480436804e2189    3\n",
       "              fd72b33016dc565f97e287594573282d0ae29f08    3\n",
       "              fdfe8207d8854099e09c1d58ddf7014b67f84351    2\n",
       "Stinson Farm  9447d037281c3aa661777cdf2a78e244d14012c0    1\n",
       "Name: field_area, Length: 271, dtype: int64"
      ]
     },
     "execution_count": 12,
     "metadata": {},
     "output_type": "execute_result"
    }
   ],
   "source": [
    "toy_fields_grouped.field_area.nunique()"
   ]
  },
  {
   "cell_type": "code",
   "execution_count": 13,
   "metadata": {},
   "outputs": [
    {
     "data": {
      "text/plain": [
       "181"
      ]
     },
     "execution_count": 13,
     "metadata": {},
     "output_type": "execute_result"
    }
   ],
   "source": [
    "len(toy_fields_grouped.filter(lambda x: x['field_area'].count() == 1))"
   ]
  },
  {
   "cell_type": "markdown",
   "metadata": {},
   "source": [
    "### Question 2\n",
    "Examine crop yield/harvest data quality"
   ]
  },
  {
   "cell_type": "code",
   "execution_count": 14,
   "metadata": {},
   "outputs": [
    {
     "name": "stdout",
     "output_type": "stream",
     "text": [
      "Number of Duplicate entries = 0, Missing entries = 0\n"
     ]
    }
   ],
   "source": [
    "# checking for duplicate entries and missing values\n",
    "dup_cnt, null_cnt = toy_yields_df.duplicated().sum(), toy_yields_df.isnull().sum().sum()\n",
    "print(\"Number of Duplicate entries = %d, Missing entries = %d\" % (dup_cnt, null_cnt))"
   ]
  },
  {
   "cell_type": "code",
   "execution_count": 15,
   "metadata": {},
   "outputs": [
    {
     "name": "stdout",
     "output_type": "stream",
     "text": [
      "<class 'pandas.core.frame.DataFrame'>\n",
      "Int64Index: 417 entries, 0 to 416\n",
      "Data columns (total 7 columns):\n",
      "crop_type          417 non-null object\n",
      "year               417 non-null int64\n",
      "harvest_product    417 non-null object\n",
      "total_harvested    417 non-null float64\n",
      "harvested_unit     417 non-null object\n",
      "field_id           417 non-null object\n",
      "org/grower         417 non-null object\n",
      "dtypes: float64(1), int64(1), object(5)\n",
      "memory usage: 26.1+ KB\n"
     ]
    }
   ],
   "source": [
    "toy_yields_df.info()"
   ]
  },
  {
   "cell_type": "code",
   "execution_count": 16,
   "metadata": {},
   "outputs": [
    {
     "data": {
      "text/html": [
       "<div>\n",
       "<style>\n",
       "    .dataframe thead tr:only-child th {\n",
       "        text-align: right;\n",
       "    }\n",
       "\n",
       "    .dataframe thead th {\n",
       "        text-align: left;\n",
       "    }\n",
       "\n",
       "    .dataframe tbody tr th {\n",
       "        vertical-align: top;\n",
       "    }\n",
       "</style>\n",
       "<table border=\"1\" class=\"dataframe\">\n",
       "  <thead>\n",
       "    <tr style=\"text-align: right;\">\n",
       "      <th></th>\n",
       "      <th>year</th>\n",
       "      <th>total_harvested</th>\n",
       "    </tr>\n",
       "  </thead>\n",
       "  <tbody>\n",
       "    <tr>\n",
       "      <th>count</th>\n",
       "      <td>417.000000</td>\n",
       "      <td>417.000000</td>\n",
       "    </tr>\n",
       "    <tr>\n",
       "      <th>mean</th>\n",
       "      <td>2015.640288</td>\n",
       "      <td>46845.564377</td>\n",
       "    </tr>\n",
       "    <tr>\n",
       "      <th>std</th>\n",
       "      <td>0.960823</td>\n",
       "      <td>35215.884157</td>\n",
       "    </tr>\n",
       "    <tr>\n",
       "      <th>min</th>\n",
       "      <td>2014.000000</td>\n",
       "      <td>190.133990</td>\n",
       "    </tr>\n",
       "    <tr>\n",
       "      <th>25%</th>\n",
       "      <td>2015.000000</td>\n",
       "      <td>17704.317250</td>\n",
       "    </tr>\n",
       "    <tr>\n",
       "      <th>50%</th>\n",
       "      <td>2015.000000</td>\n",
       "      <td>40381.649240</td>\n",
       "    </tr>\n",
       "    <tr>\n",
       "      <th>75%</th>\n",
       "      <td>2017.000000</td>\n",
       "      <td>67743.991590</td>\n",
       "    </tr>\n",
       "    <tr>\n",
       "      <th>max</th>\n",
       "      <td>2017.000000</td>\n",
       "      <td>170897.708500</td>\n",
       "    </tr>\n",
       "  </tbody>\n",
       "</table>\n",
       "</div>"
      ],
      "text/plain": [
       "              year  total_harvested\n",
       "count   417.000000       417.000000\n",
       "mean   2015.640288     46845.564377\n",
       "std       0.960823     35215.884157\n",
       "min    2014.000000       190.133990\n",
       "25%    2015.000000     17704.317250\n",
       "50%    2015.000000     40381.649240\n",
       "75%    2017.000000     67743.991590\n",
       "max    2017.000000    170897.708500"
      ]
     },
     "execution_count": 16,
     "metadata": {},
     "output_type": "execute_result"
    }
   ],
   "source": [
    "toy_yields_df.describe()"
   ]
  },
  {
   "cell_type": "code",
   "execution_count": 17,
   "metadata": {},
   "outputs": [
    {
     "data": {
      "text/plain": [
       "Index(['crop_type', 'year', 'harvest_product', 'total_harvested',\n",
       "       'harvested_unit', 'field_id', 'org/grower'],\n",
       "      dtype='object')"
      ]
     },
     "execution_count": 17,
     "metadata": {},
     "output_type": "execute_result"
    }
   ],
   "source": [
    "toy_yields_df.columns"
   ]
  },
  {
   "cell_type": "code",
   "execution_count": 18,
   "metadata": {
    "scrolled": true
   },
   "outputs": [
    {
     "data": {
      "text/plain": [
       "(417, 7)"
      ]
     },
     "execution_count": 18,
     "metadata": {},
     "output_type": "execute_result"
    }
   ],
   "source": [
    "toy_yields_df.shape"
   ]
  },
  {
   "cell_type": "code",
   "execution_count": 19,
   "metadata": {},
   "outputs": [
    {
     "data": {
      "text/html": [
       "<div>\n",
       "<style>\n",
       "    .dataframe thead tr:only-child th {\n",
       "        text-align: right;\n",
       "    }\n",
       "\n",
       "    .dataframe thead th {\n",
       "        text-align: left;\n",
       "    }\n",
       "\n",
       "    .dataframe tbody tr th {\n",
       "        vertical-align: top;\n",
       "    }\n",
       "</style>\n",
       "<table border=\"1\" class=\"dataframe\">\n",
       "  <thead>\n",
       "    <tr style=\"text-align: right;\">\n",
       "      <th></th>\n",
       "      <th>crop_type</th>\n",
       "      <th>year</th>\n",
       "      <th>harvest_product</th>\n",
       "      <th>total_harvested</th>\n",
       "      <th>harvested_unit</th>\n",
       "      <th>field_id</th>\n",
       "      <th>org/grower</th>\n",
       "    </tr>\n",
       "  </thead>\n",
       "  <tbody>\n",
       "    <tr>\n",
       "      <th>0</th>\n",
       "      <td>CROP.CORN.COMMERCIAL</td>\n",
       "      <td>2016</td>\n",
       "      <td>grain</td>\n",
       "      <td>53290.628850</td>\n",
       "      <td>bu</td>\n",
       "      <td>cb1e3bd821dd673a0c378b16ba97075919aa993a</td>\n",
       "      <td>Austin Farm</td>\n",
       "    </tr>\n",
       "    <tr>\n",
       "      <th>1</th>\n",
       "      <td>CROP.SOYBEAN.COMMERCIAL</td>\n",
       "      <td>2015</td>\n",
       "      <td>grain</td>\n",
       "      <td>403.185902</td>\n",
       "      <td>bu</td>\n",
       "      <td>0c090e104b85e5d305640f9d43f32d0a8c5faeb6</td>\n",
       "      <td>Austin Farm</td>\n",
       "    </tr>\n",
       "    <tr>\n",
       "      <th>2</th>\n",
       "      <td>CROP.SOYBEAN.COMMERCIAL</td>\n",
       "      <td>2015</td>\n",
       "      <td>grain</td>\n",
       "      <td>27620.687600</td>\n",
       "      <td>bu</td>\n",
       "      <td>cb1e3bd821dd673a0c378b16ba97075919aa993a</td>\n",
       "      <td>Austin Farm</td>\n",
       "    </tr>\n",
       "    <tr>\n",
       "      <th>3</th>\n",
       "      <td>CROP.CORN.COMMERCIAL</td>\n",
       "      <td>2015</td>\n",
       "      <td>grain</td>\n",
       "      <td>41322.024800</td>\n",
       "      <td>bu</td>\n",
       "      <td>82de9e36652993a37ce5fbc55fa9033f425fb120</td>\n",
       "      <td>Austin Farm</td>\n",
       "    </tr>\n",
       "    <tr>\n",
       "      <th>4</th>\n",
       "      <td>CROP.SOYBEAN.COMMERCIAL</td>\n",
       "      <td>2015</td>\n",
       "      <td>grain</td>\n",
       "      <td>13638.816380</td>\n",
       "      <td>bu</td>\n",
       "      <td>3043cfa778d98f7970918f0f2958c4b6e9701c7d</td>\n",
       "      <td>Austin Farm</td>\n",
       "    </tr>\n",
       "  </tbody>\n",
       "</table>\n",
       "</div>"
      ],
      "text/plain": [
       "                 crop_type  year harvest_product  total_harvested  \\\n",
       "0     CROP.CORN.COMMERCIAL  2016           grain     53290.628850   \n",
       "1  CROP.SOYBEAN.COMMERCIAL  2015           grain       403.185902   \n",
       "2  CROP.SOYBEAN.COMMERCIAL  2015           grain     27620.687600   \n",
       "3     CROP.CORN.COMMERCIAL  2015           grain     41322.024800   \n",
       "4  CROP.SOYBEAN.COMMERCIAL  2015           grain     13638.816380   \n",
       "\n",
       "  harvested_unit                                  field_id   org/grower  \n",
       "0             bu  cb1e3bd821dd673a0c378b16ba97075919aa993a  Austin Farm  \n",
       "1             bu  0c090e104b85e5d305640f9d43f32d0a8c5faeb6  Austin Farm  \n",
       "2             bu  cb1e3bd821dd673a0c378b16ba97075919aa993a  Austin Farm  \n",
       "3             bu  82de9e36652993a37ce5fbc55fa9033f425fb120  Austin Farm  \n",
       "4             bu  3043cfa778d98f7970918f0f2958c4b6e9701c7d  Austin Farm  "
      ]
     },
     "execution_count": 19,
     "metadata": {},
     "output_type": "execute_result"
    }
   ],
   "source": [
    "toy_yields_df.head()"
   ]
  },
  {
   "cell_type": "code",
   "execution_count": 20,
   "metadata": {},
   "outputs": [
    {
     "data": {
      "text/plain": [
       "array(['grain'], dtype=object)"
      ]
     },
     "execution_count": 20,
     "metadata": {},
     "output_type": "execute_result"
    }
   ],
   "source": [
    "toy_yields_df.harvest_product.unique()"
   ]
  },
  {
   "cell_type": "code",
   "execution_count": 21,
   "metadata": {},
   "outputs": [
    {
     "data": {
      "text/plain": [
       "CROP.CORN.COMMERCIAL       287\n",
       "CROP.SOYBEAN.COMMERCIAL    130\n",
       "Name: crop_type, dtype: int64"
      ]
     },
     "execution_count": 21,
     "metadata": {},
     "output_type": "execute_result"
    }
   ],
   "source": [
    "toy_yields_df.crop_type.value_counts()"
   ]
  },
  {
   "cell_type": "code",
   "execution_count": 22,
   "metadata": {
    "collapsed": true
   },
   "outputs": [],
   "source": [
    "# renaming crop_type \n",
    "toy_yields_df['crop_type'] = toy_yields_df['crop_type'].replace(['CROP.CORN.COMMERCIAL', 'CROP.SOYBEAN.COMMERCIAL'], ['Corn','Soybean'])"
   ]
  },
  {
   "cell_type": "code",
   "execution_count": 24,
   "metadata": {},
   "outputs": [
    {
     "data": {
      "text/plain": [
       "array([2016, 2015, 2014, 2017])"
      ]
     },
     "execution_count": 24,
     "metadata": {},
     "output_type": "execute_result"
    }
   ],
   "source": [
    "toy_yields_df.year.unique()"
   ]
  },
  {
   "cell_type": "code",
   "execution_count": 25,
   "metadata": {},
   "outputs": [],
   "source": [
    "# convert 'year' to str\n",
    "toy_yields_df['year'] = toy_yields_df['year'].apply(str)"
   ]
  },
  {
   "cell_type": "code",
   "execution_count": 27,
   "metadata": {},
   "outputs": [
    {
     "data": {
      "text/plain": [
       "Simmons Farm        148\n",
       "Cavanaugh Farm       82\n",
       "Dudley Farm          51\n",
       "Austin Farm          50\n",
       "Depner Farm          34\n",
       "Konecny Farm          8\n",
       "Jenkins Farm          7\n",
       "Odell Farm            6\n",
       "Hawker Farm           5\n",
       "Gregory Farm          4\n",
       "Ross Farm             4\n",
       "Flanagan Farm         3\n",
       "Overholt Farm         3\n",
       "Mull Farm             2\n",
       "Seever Farm           2\n",
       "Sifuentes Farm        2\n",
       "Barrocas Farm         2\n",
       "Carpentieri Farm      1\n",
       "Stinson Farm          1\n",
       "Crawford Farm         1\n",
       "Batte Farm            1\n",
       "Name: org/grower, dtype: int64"
      ]
     },
     "execution_count": 27,
     "metadata": {},
     "output_type": "execute_result"
    }
   ],
   "source": [
    "toy_yields_df['org/grower'].value_counts()"
   ]
  },
  {
   "cell_type": "code",
   "execution_count": 44,
   "metadata": {},
   "outputs": [
    {
     "data": {
      "text/plain": [
       "count       417.000000\n",
       "mean      46845.564377\n",
       "std       35215.884157\n",
       "min         190.133990\n",
       "25%       17704.317250\n",
       "50%       40381.649240\n",
       "75%       67743.991590\n",
       "max      170897.708500\n",
       "Name: total_harvested, dtype: float64"
      ]
     },
     "execution_count": 44,
     "metadata": {},
     "output_type": "execute_result"
    }
   ],
   "source": [
    "toy_yields_df.total_harvested.describe()"
   ]
  },
  {
   "cell_type": "code",
   "execution_count": 37,
   "metadata": {},
   "outputs": [
    {
     "data": {
      "text/plain": [
       "<matplotlib.axes._subplots.AxesSubplot at 0x114b283c8>"
      ]
     },
     "execution_count": 37,
     "metadata": {},
     "output_type": "execute_result"
    },
    {
     "data": {
      "image/png": "[encoded data removed]",
      "text/plain": [
       "<matplotlib.figure.Figure at 0x1040694a8>"
      ]
     },
     "metadata": {},
     "output_type": "display_data"
    }
   ],
   "source": [
    "sns.countplot(x = toy_yields_df['crop_type'],\n",
    "              data = toy_yields_df,\n",
    "              order = toy_yields_df['crop_type'].value_counts().index)"
   ]
  },
  {
   "cell_type": "code",
   "execution_count": 33,
   "metadata": {},
   "outputs": [
    {
     "data": {
      "text/plain": [
       "<matplotlib.axes._subplots.AxesSubplot at 0x1147f7ac8>"
      ]
     },
     "execution_count": 33,
     "metadata": {},
     "output_type": "execute_result"
    },
    {
     "data": {
      "image/png": "[encoded data removed]",
      "text/plain": [
       "<matplotlib.figure.Figure at 0x1146e7a20>"
      ]
     },
     "metadata": {},
     "output_type": "display_data"
    }
   ],
   "source": [
    "sns.boxplot(x=\"year\", y=\"total_harvested\", hue=\"crop_type\", data=toy_yields_df)"
   ]
  },
  {
   "cell_type": "code",
   "execution_count": 41,
   "metadata": {},
   "outputs": [
    {
     "data": {
      "text/plain": [
       "<matplotlib.axes._subplots.AxesSubplot at 0x114f127b8>"
      ]
     },
     "execution_count": 41,
     "metadata": {},
     "output_type": "execute_result"
    },
    {
     "data": {
      "image/png": "[encoded data removed]",
      "text/plain": [
       "<matplotlib.figure.Figure at 0x114eb9748>"
      ]
     },
     "metadata": {},
     "output_type": "display_data"
    }
   ],
   "source": [
    "sns.distplot(toy_yields_df.total_harvested)"
   ]
  },
  {
   "cell_type": "markdown",
   "metadata": {},
   "source": [
    "### EDA \n",
    "\n",
    "Ans to 1a: \n",
    "- Each field in a farm/org should have only 1 crop yield per year (either corn or soybean)\n",
    "- There are 48 cases/rows where a single field is showing more than one crop yield\n",
    "\n",
    "Ans. to 1b:\n",
    "- Each field within a farm/org is expected to have a constant area\n",
    "- In this dataset, there are 181 fields with a single measure of area\n",
    "- The remaining fields show different areas for different years. Rounding the area does not help.  This column needs to be explored further.\n"
   ]
  },
  {
   "cell_type": "markdown",
   "metadata": {},
   "source": [
    "Ans. to 2:\n",
    "Data Quality:\n",
    "\n",
    "- Completeness: Though there are no missing or duplicate records in the data set, the data is messy\n",
    "- consistency, integrity, accuracy,  \n",
    "    Here are a few areas to focus on in order to improve the quality of this data set\n",
    "1) Crop Type\n",
    "- The 'crop_type' feature shows two crops - corn or soybean. But the data values are of the form 'CROP.CORN.COMMERCIAL' and 'CROP.SOYBEAN.COMMERCIAL'. Transforming these to just the crop name would be beneficial for understanding and ease of analysis. \n",
    "- If there is a crop type other than commercial, that could be split into a separate feature, so that we can analyze the difference between commercially vs non-commercially grown crops\n",
    "\n",
    "2) Harvest Product and Harvested Unit\n",
    "- all products in this data set were tagged 'grain'. If the larger data which this data was part of, has harvest products other than 'grain', then it is valid to have such a column. Otherwise, this column can be dropped since it does not add any value to the data set\n",
    "- The same goes for harvested unit. The entire column consists of one value 'bu'. If this is the standard and no other unit is part of the larger data that this sample is part of, this column can safely be dropped\n",
    "\n",
    "3) Total Harvested\n",
    "- This column contains numbers with around 5 decimal points. After understanding the context of the data, one could look into rounding off this feature's values to just the required number of decimal points\n",
    "    \n",
    "4) Field ID and Org ID\n",
    "- Both field_id and org_id contain values that are too unwieldy. In this case, the toy_orgs table was available so that they could be mapped to the org_id for better analysis.\n",
    "- The field_id did not carry any such information.\n",
    "- It would be better to generate simpler IDs for these features to make them concise\n",
    "\n",
    "\n",
    "- The total harvest is significantly higher for corn than for soybeans, in line with the number of fields growing each of these crops."
   ]
  },
  {
   "cell_type": "code",
   "execution_count": null,
   "metadata": {
    "collapsed": true
   },
   "outputs": [],
   "source": []
  }
 ],
 "metadata": {
  "kernelspec": {
   "display_name": "Python 3",
   "language": "python",
   "name": "python3"
  },
  "language_info": {
   "codemirror_mode": {
    "name": "ipython",
    "version": 3
   },
   "file_extension": ".py",
   "mimetype": "text/x-python",
   "name": "python",
   "nbconvert_exporter": "python",
   "pygments_lexer": "ipython3",
   "version": "3.6.2"
  }
 },
 "nbformat": 4,
 "nbformat_minor": 2
}
